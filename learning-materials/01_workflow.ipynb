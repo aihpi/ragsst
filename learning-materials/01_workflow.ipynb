{
 "cells": [
  {
   "cell_type": "markdown",
   "metadata": {},
   "source": [
    "<div style=\"background-color: #ffffff; color: #000000; padding: 10px;\">\n",
    "<div style=\"display: flex; justify-content: space-between; align-items: center; background-color: #ffffff; color: #000000; padding: 10px;\">\n",
    "    <img src=\"../images/logo_kisz.png\" height=\"80\" style=\"margin-right: auto;\" alt=\"Logo of the AI Service Center Berlin-Brandenburg.\">\n",
    "    <img src=\"../images/logo_bmbf.jpeg\" height=\"150\" style=\"margin-left: auto;\" alt=\"Logo of the German Federal Ministry of Education and Research: Gefördert vom Bundesministerium für Bildung und Forschung.\">\n",
    "</div>\n",
    "<h1> Efficient Information Retrieval from Documents\n",
    "<h2> Local Retrieval Augmented Generation System\n",
    "</div>"
   ]
  },
  {
   "cell_type": "markdown",
   "metadata": {},
   "source": [
    "<div style=\"background-color: #f6a800; color: #ffffff; padding: 10px;\">\n",
    "    <h2> Part 1 - Workflow"
   ]
  },
  {
   "cell_type": "markdown",
   "metadata": {},
   "source": [
    "<div style=\"background-color: #dd6108; color: #ffffff; padding: 10px;\">\n",
    "<h3>1. Basics - Handcrafted RAG</h3>\n",
    "</div>"
   ]
  },
  {
   "cell_type": "code",
   "execution_count": 1,
   "metadata": {},
   "outputs": [
    {
     "name": "stderr",
     "output_type": "stream",
     "text": [
      "/home/hanmul/Workshops/ragsst/.myvenv/lib/python3.10/site-packages/tqdm/auto.py:21: TqdmWarning: IProgress not found. Please update jupyter and ipywidgets. See https://ipywidgets.readthedocs.io/en/stable/user_install.html\n",
      "  from .autonotebook import tqdm as notebook_tqdm\n",
      "/home/hanmul/Workshops/ragsst/.myvenv/lib/python3.10/site-packages/torch/cuda/__init__.py:129: UserWarning: CUDA initialization: CUDA unknown error - this may be due to an incorrectly set up environment, e.g. changing env variable CUDA_VISIBLE_DEVICES after program start. Setting the available devices to be zero. (Triggered internally at /pytorch/c10/cuda/CUDAFunctions.cpp:109.)\n",
      "  return torch._C._cuda_getDeviceCount() > 0\n"
     ]
    }
   ],
   "source": [
    "# Load Embedding model\n",
    "# https://www.sbert.net/\n",
    "# pip3 install sentence-transformers\n",
    "\n",
    "from sentence_transformers import SentenceTransformer\n",
    "\n",
    "EMBEDDING_MODEL = \"all-MiniLM-L6-v2\"\n",
    "model = SentenceTransformer(EMBEDDING_MODEL)"
   ]
  },
  {
   "cell_type": "code",
   "execution_count": 2,
   "metadata": {},
   "outputs": [],
   "source": [
    "# Sample Text\n",
    "\n",
    "texts = [\n",
    "    \"Bali's beautiful beaches and rich culture stands out as a fantastic travel destination.\",\n",
    "    \"Pizza in Rome is famous for its thin crust, fresh ingredients and wood-fired ovens.\",\n",
    "    \"Graphics processing units (GPU) have become an essential foundation for artificial intelligence.\",\n",
    "    \"Newton's laws of motion transformed our understanding of physics.\",\n",
    "    \"The French Revolution played a crucial role in shaping contemporary France.\",\n",
    "    \"Maintaining good health requires regular exercise, balanced diet and quality sleep.\",\n",
    "    \"Dali's surrealistic artworks, like 'The Persistence of Memory,' captivate audiences with their dreamlike imagery and imaginative brilliance\",\n",
    "    \"Global warming threatens the planet's ecosystems and wildlife.\",\n",
    "    \"The KI-Servicezentrum Berlin-Brandenburg offers services such as consulting, workshops, MOOCs and computer resources.\",\n",
    "    \"Django Reinhardt's jazz compositions are celebrated for their captivating melodies and innovative guitar work..\",\n",
    "]"
   ]
  },
  {
   "cell_type": "code",
   "execution_count": 3,
   "metadata": {},
   "outputs": [
    {
     "name": "stdout",
     "output_type": "stream",
     "text": [
      "Embeddings type: <class 'numpy.ndarray'>\n",
      "Embeddings Matrix shape: (10, 384)\n"
     ]
    }
   ],
   "source": [
    "# Encode texts\n",
    "\n",
    "text_embeddings = model.encode(texts)\n",
    "\n",
    "print(\"Embeddings type:\", type(text_embeddings))\n",
    "print(\"Embeddings Matrix shape:\", text_embeddings.shape)\n",
    "\n",
    "# Note: \"all-MiniLM-L6-v2\" encodes texts up to 256 words. It’ll truncate any text longer than this.\n",
    "# https://huggingface.co/sentence-transformers/all-MiniLM-L6-v2"
   ]
  },
  {
   "cell_type": "markdown",
   "metadata": {},
   "source": [
    " #### &bull; **Check Similarity**"
   ]
  },
  {
   "cell_type": "code",
   "execution_count": 4,
   "metadata": {},
   "outputs": [],
   "source": [
    "# Storing Embeddings in a simple dict\n",
    "\n",
    "text_embs_dict = dict(zip(texts, list(text_embeddings)))\n",
    "# key: text, value: numpy array with embedding"
   ]
  },
  {
   "cell_type": "code",
   "execution_count": 5,
   "metadata": {},
   "outputs": [],
   "source": [
    "# Define similarity metric\n",
    "\n",
    "from numpy import dot\n",
    "from numpy.linalg import norm\n",
    "\n",
    "def cos_sim(x, y):\n",
    "    return dot(x, y) / (norm(x) * norm(y))"
   ]
  },
  {
   "cell_type": "code",
   "execution_count": 6,
   "metadata": {},
   "outputs": [
    {
     "name": "stdout",
     "output_type": "stream",
     "text": [
      "\n",
      "Cosine similarities for: 'I really need some vacations'\n",
      "\n",
      "Bali's beautiful beaches and rich culture stands out as a fantastic travel destination. 0.302\n",
      "Pizza in Rome is famous for its thin crust, fresh ingredients and wood-fired ovens. 0.161\n",
      "Graphics processing units (GPU) have become an essential foundation for artificial intelligence. -0.089\n",
      "Newton's laws of motion transformed our understanding of physics. 0.022\n",
      "The French Revolution played a crucial role in shaping contemporary France. 0.012\n",
      "Maintaining good health requires regular exercise, balanced diet and quality sleep. 0.176\n",
      "Dali's surrealistic artworks, like 'The Persistence of Memory,' captivate audiences with their dreamlike imagery and imaginative brilliance 0.022\n",
      "Global warming threatens the planet's ecosystems and wildlife. 0.105\n",
      "The KI-Servicezentrum Berlin-Brandenburg offers services such as consulting, workshops, MOOCs and computer resources. 0.105\n",
      "Django Reinhardt's jazz compositions are celebrated for their captivating melodies and innovative guitar work.. 0.066\n"
     ]
    }
   ],
   "source": [
    "# Check similarities\n",
    "\n",
    "test_text = \"I really need some vacations\"\n",
    "emb_test_text = model.encode(test_text)\n",
    "\n",
    "print(f\"\\nCosine similarities for: '{test_text}'\\n\")\n",
    "for k, v in text_embs_dict.items():\n",
    "    print(k, round(cos_sim(emb_test_text, v), 3))"
   ]
  },
  {
   "cell_type": "markdown",
   "metadata": {},
   "source": [
    "<div style=\"background-color: #dd6108; color: #ffffff; padding: 10px;\">\n",
    "<h3>2. Basics - A simple RAG tool</h3>\n",
    "</div>"
   ]
  },
  {
   "cell_type": "code",
   "execution_count": 7,
   "metadata": {},
   "outputs": [],
   "source": [
    "import chromadb\n",
    "from chromadb.utils import embedding_functions\n",
    "\n",
    "client = chromadb.Client()\n",
    "# client = chromadb.PersistentClient(path=\"chroma_data/\")\n",
    "# For a ChromaDB instance on the disk\n",
    "\n",
    "embedding_func = embedding_functions.SentenceTransformerEmbeddingFunction(\n",
    "    model_name=EMBEDDING_MODEL\n",
    ")"
   ]
  },
  {
   "cell_type": "code",
   "execution_count": 8,
   "metadata": {},
   "outputs": [],
   "source": [
    "# Init collection\n",
    "\n",
    "COLLECTION_NAME = \"demo_docs\"\n",
    "\n",
    "collection = client.create_collection(\n",
    "    name=COLLECTION_NAME,\n",
    "    embedding_function=embedding_func,\n",
    "    metadata={\"hnsw:space\": \"cosine\"},\n",
    ")"
   ]
  },
  {
   "cell_type": "code",
   "execution_count": 9,
   "metadata": {},
   "outputs": [],
   "source": [
    "# Create collection\n",
    "# (Adding metadata. Optional)\n",
    "\n",
    "topics = [\n",
    "    \"travel\",\n",
    "    \"food\",\n",
    "    \"technology\",\n",
    "    \"science\",\n",
    "    \"history\",\n",
    "    \"health\",\n",
    "    \"painting\",\n",
    "    \"climate change\",\n",
    "    \"business\",\n",
    "    \"music\",\n",
    "]\n",
    "\n",
    "collection.add(\n",
    "    documents=texts,\n",
    "    ids=[f\"id{i}\" for i in range(len(texts))],\n",
    "    metadatas=[{\"topic\": topic} for topic in topics],\n",
    ")"
   ]
  },
  {
   "cell_type": "code",
   "execution_count": 10,
   "metadata": {},
   "outputs": [
    {
     "name": "stdout",
     "output_type": "stream",
     "text": [
      "Query dict keys:\n",
      "dict_keys(['ids', 'distances', 'metadatas', 'embeddings', 'documents', 'uris', 'data', 'included'])\n",
      "\n",
      "Query: I am looking for something to eat\n",
      "\n",
      "Results:\n",
      "id: id1\n",
      "Text: Pizza in Rome is famous for its thin crust, fresh ingredients and wood-fired ovens.\n",
      "Distance: 0.72\n",
      "Metadata: {'topic': 'food'}\n",
      "id: id5\n",
      "Text: Maintaining good health requires regular exercise, balanced diet and quality sleep.\n",
      "Distance: 0.85\n",
      "Metadata: {'topic': 'health'}\n",
      "--------------------------------------------------------------------------------\n",
      "\n",
      "Query: What's going on in the world?\n",
      "\n",
      "Results:\n",
      "id: id7\n",
      "Text: Global warming threatens the planet's ecosystems and wildlife.\n",
      "Distance: 0.74\n",
      "Metadata: {'topic': 'climate change'}\n",
      "id: id3\n",
      "Text: Newton's laws of motion transformed our understanding of physics.\n",
      "Distance: 0.86\n",
      "Metadata: {'topic': 'science'}\n",
      "--------------------------------------------------------------------------------\n",
      "\n",
      "Query: Great jazz player\n",
      "\n",
      "Results:\n",
      "id: id9\n",
      "Text: Django Reinhardt's jazz compositions are celebrated for their captivating melodies and innovative guitar work..\n",
      "Distance: 0.52\n",
      "Metadata: {'topic': 'music'}\n",
      "id: id4\n",
      "Text: The French Revolution played a crucial role in shaping contemporary France.\n",
      "Distance: 0.88\n",
      "Metadata: {'topic': 'history'}\n",
      "--------------------------------------------------------------------------------\n"
     ]
    }
   ],
   "source": [
    "# Quering the Database\n",
    "\n",
    "query1 = \"I am looking for something to eat\"\n",
    "query2 = \"What's going on in the world?\"\n",
    "query3 = \"Great jazz player\"\n",
    "\n",
    "queries = [query1, query2, query3]\n",
    "\n",
    "query_results = collection.query(\n",
    "    query_texts=queries,  # list of strings or just one element (string)\n",
    "    n_results=2,\n",
    ")\n",
    "print(\"Query dict keys:\")\n",
    "print(query_results.keys())\n",
    "\n",
    "for i in range(len(queries)):\n",
    "    print(\"\\nQuery:\", queries[i])\n",
    "\n",
    "    print(\"\\nResults:\")\n",
    "    for j in range(len(query_results[\"ids\"][i])):\n",
    "        print(\"id:\", query_results[\"ids\"][i][j])\n",
    "        print(\"Text:\", query_results[\"documents\"][i][j])\n",
    "        print(\"Distance:\", round(query_results[\"distances\"][i][j], 2))\n",
    "        print(\"Metadata:\", query_results[\"metadatas\"][i][j])\n",
    "\n",
    "    print(80 * \"-\")"
   ]
  },
  {
   "cell_type": "markdown",
   "metadata": {},
   "source": [
    " #### &bull; **Running a Large Language Model locally with Ollama**"
   ]
  },
  {
   "cell_type": "code",
   "execution_count": null,
   "metadata": {},
   "outputs": [],
   "source": [
    "import requests, json\n",
    "from os import getenv\n",
    "from urllib.parse import urljoin\n",
    "\n",
    "# $ ollama serve\n",
    "BASEURL = urljoin(getenv(\"OLLAMA_HOST\", \"http://localhost:11434\"), \"api\")\n",
    "MODEL = \"llama3.2:8b\"\n",
    "\n",
    "\n",
    "def generate(prompt, context=[], top_k=5, top_p=0.9, temp=0.5):\n",
    "    url = BASEURL + \"/generate\"\n",
    "    data = {\n",
    "        \"prompt\": prompt,\n",
    "        \"model\": MODEL,\n",
    "        \"stream\": False,\n",
    "        \"context\": context,\n",
    "        \"options\": {\"temperature\": temp, \"top_p\": top_p, \"top_k\": top_k},\n",
    "    }\n",
    "\n",
    "    try:\n",
    "        r = requests.post(url, json=data)\n",
    "        response_dic = json.loads(r.text)\n",
    "        return response_dic.get('response', ''), response_dic.get('context', '')\n",
    "\n",
    "    except Exception as e:\n",
    "        print(e)"
   ]
  },
  {
   "cell_type": "code",
   "execution_count": 12,
   "metadata": {},
   "outputs": [
    {
     "name": "stdout",
     "output_type": "stream",
     "text": [
      "There are many things happening in the world right now. Here are some of the top news stories and trends:\n",
      "\n",
      "1. **Global Economy**: The global economy is facing challenges, including inflation, supply chain disruptions, and a slowdown in economic growth. Central banks are responding with interest rate hikes to control inflation.\n",
      "2. **Climate Change**: Climate change remains a pressing issue, with extreme weather events like hurricanes, wildfires, and droughts becoming more frequent. Countries are implementing policies to reduce carbon emissions and transition to renewable energy sources.\n",
      "3. **Conflict and Tensions**: There are ongoing conflicts in various parts of the world, including Ukraine-Russia, Middle East, and South Asia. Diplomatic efforts are being made to resolve these disputes peacefully.\n",
      "4. **Technology Advancements**: Technology is advancing rapidly, with breakthroughs in fields like artificial intelligence, biotechnology, and space exploration. These advancements have the potential to transform industries and improve people's lives.\n",
      "5. **Health and Wellness**: The COVID-19 pandemic has had a significant impact on global health and wellness. Vaccination efforts are ongoing, and there is growing focus on mental health, nutrition, and physical activity.\n",
      "\n",
      "Some notable events and developments in recent weeks include:\n",
      "\n",
      "* The United States and China have agreed to a trade deal aimed at reducing tariffs and increasing trade.\n",
      "* The European Union has proposed a new climate law that aims to reduce greenhouse gas emissions by 55% by 2030.\n",
      "* A devastating earthquake struck Turkey and Syria, killing thousands of people and displacing many more.\n",
      "* The world's largest solar power plant was completed in Saudi Arabia, marking a significant milestone in the transition to renewable energy.\n",
      "\n",
      "These are just a few examples of what's happening in the world. If you have specific interests or topics you'd like to know more about, feel free to ask!\n"
     ]
    }
   ],
   "source": [
    "llm_response, _ = generate(\"What's going on in the world?\",  \n",
    "                           top_k=10, top_p=0.9, temp=0.5)\n",
    "print(llm_response)"
   ]
  },
  {
   "cell_type": "code",
   "execution_count": 13,
   "metadata": {},
   "outputs": [
    {
     "name": "stdout",
     "output_type": "stream",
     "text": [
      "Query: What's going on in the world?\n",
      "\n",
      "Relevant Sources:\n",
      "1. Global warming threatens the planet's ecosystems and wildlife.\n",
      "2. Newton's laws of motion transformed our understanding of physics.\n",
      "\n",
      "RAG Response:\n",
      "It appears that there are two unrelated topics being mentioned: global warming and Newton's laws of motion. However, based on the context information provided, it seems that the question is asking for a general description of what's happening in the world.\n",
      "\n",
      "Given the two contexts, I would say that \"things are changing\" or \"the world is experiencing significant transformations\". The first context mentions the impact of global warming, and the second context highlights a fundamental shift in our understanding of physics. Both topics suggest that something profound is occurring in the world, but it's not necessarily related to each other.\n",
      "\n",
      "A more specific answer could be: \"The world is facing significant challenges, with global warming posing an existential threat to ecosystems and wildlife, while scientific breakthroughs like Newton's laws of motion are transforming our understanding of physics.\"\n"
     ]
    }
   ],
   "source": [
    "def rag_generate(query, n_results=3, top_k=10, top_p=0.9, temp=0.5):\n",
    "    \"\"\"\n",
    "    RAG function: Retrieve relevant context and generate response\n",
    "    \"\"\"\n",
    "    # Step 1: Retrieve relevant documents\n",
    "    search_results = collection.query(\n",
    "        query_texts=[query],\n",
    "        n_results=n_results\n",
    "    )\n",
    "    \n",
    "    # Step 2: Extract the relevant text passages\n",
    "    relevant_docs = search_results['documents'][0]\n",
    "    \n",
    "    # Step 3: Create context from retrieved documents\n",
    "    context_text = \"\\n\\n\".join([f\"Context {i+1}: {doc}\" for i, doc in enumerate(relevant_docs)])\n",
    "    \n",
    "    # Step 4: Create enhanced prompt with context\n",
    "    enhanced_prompt = f\"\"\"Based on the following context information, please answer the question.\n",
    "\n",
    "Context:\n",
    "{context_text}\n",
    "\n",
    "Question: {query}\n",
    "\n",
    "Answer:\"\"\"\n",
    "    \n",
    "    # Step 5: Generate response using the enhanced prompt\n",
    "    response, ollama_context = generate(enhanced_prompt, top_k=top_k, top_p=top_p, temp=temp)\n",
    "    \n",
    "    return response, relevant_docs\n",
    "\n",
    "# Test the RAG system\n",
    "user_query = \"What's going on in the world?\"\n",
    "rag_response, sources = rag_generate(user_query, n_results=2)\n",
    "\n",
    "print(f\"Query: {user_query}\")\n",
    "print(f\"\\nRelevant Sources:\")\n",
    "for i, source in enumerate(sources, 1):\n",
    "    print(f\"{i}. {source}\")\n",
    "\n",
    "print(f\"\\nRAG Response:\")\n",
    "print(rag_response)"
   ]
  },
  {
   "cell_type": "markdown",
   "metadata": {},
   "source": [
    " -----------------------------------------------------------------------------\n",
    "\n",
    " ## Integration\n",
    "\n",
    " #### **Integrate the components for a RAG System.**\n",
    "\n",
    " ### References:\n",
    "\n",
    " #### &bull; **Text embedding: Sentence Bert**\n",
    "\n",
    " https://www.sbert.net/\n",
    "\n",
    "\n",
    "\n",
    " Sample Sentence Transformers:\n",
    "\n",
    "\n",
    "\n",
    " https://huggingface.co/sentence-transformers/all-MiniLM-L6-v2\n",
    "\n",
    "\n",
    "\n",
    " https://huggingface.co/sentence-transformers/multi-qa-MiniLM-L6-cos-v1\n",
    "\n",
    "\n",
    "\n",
    " https://huggingface.co/sentence-transformers/multi-qa-mpnet-base-cos-v1\n",
    "\n",
    "\n",
    "\n",
    " Check and compare\n",
    "\n",
    " #### &bull; **Vector Database: ChromaDB**\n",
    "\n",
    " https://docs.trychroma.com/\n",
    "\n",
    " #### &bull; **Local LLM: ollama**\n",
    "\n",
    " https://ollama.ai/\n",
    "\n",
    " #### &bull; **Frontend: Gradio**\n",
    "\n",
    " https://www.gradio.app/"
   ]
  }
 ],
 "metadata": {
  "kernelspec": {
   "display_name": ".myvenv",
   "language": "python",
   "name": "python3"
  },
  "language_info": {
   "codemirror_mode": {
    "name": "ipython",
    "version": 3
   },
   "file_extension": ".py",
   "mimetype": "text/x-python",
   "name": "python",
   "nbconvert_exporter": "python",
   "pygments_lexer": "ipython3",
   "version": "3.10.12"
  }
 },
 "nbformat": 4,
 "nbformat_minor": 2
}
